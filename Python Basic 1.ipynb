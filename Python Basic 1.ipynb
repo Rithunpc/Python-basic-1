{
 "cells": [
  {
   "cell_type": "markdown",
   "id": "a313fbce",
   "metadata": {},
   "source": [
    "# Python Basics 1"
   ]
  },
  {
   "cell_type": "markdown",
   "id": "e70cf259",
   "metadata": {},
   "source": [
    "# Python Keywords"
   ]
  },
  {
   "cell_type": "code",
   "execution_count": 6,
   "id": "1e583905",
   "metadata": {},
   "outputs": [
    {
     "data": {
      "text/plain": [
       "['False',\n",
       " 'None',\n",
       " 'True',\n",
       " 'and',\n",
       " 'as',\n",
       " 'assert',\n",
       " 'async',\n",
       " 'await',\n",
       " 'break',\n",
       " 'class',\n",
       " 'continue',\n",
       " 'def',\n",
       " 'del',\n",
       " 'elif',\n",
       " 'else',\n",
       " 'except',\n",
       " 'finally',\n",
       " 'for',\n",
       " 'from',\n",
       " 'global',\n",
       " 'if',\n",
       " 'import',\n",
       " 'in',\n",
       " 'is',\n",
       " 'lambda',\n",
       " 'nonlocal',\n",
       " 'not',\n",
       " 'or',\n",
       " 'pass',\n",
       " 'raise',\n",
       " 'return',\n",
       " 'try',\n",
       " 'while',\n",
       " 'with',\n",
       " 'yield']"
      ]
     },
     "execution_count": 6,
     "metadata": {},
     "output_type": "execute_result"
    }
   ],
   "source": [
    "[8] #this will get you the list of all keyword in python.\n",
    "\n",
    "import keyword \n",
    "keyword.kwlist"
   ]
  },
  {
   "cell_type": "code",
   "execution_count": 9,
   "id": "60adbae1",
   "metadata": {},
   "outputs": [
    {
     "data": {
      "text/plain": [
       "True"
      ]
     },
     "execution_count": 9,
     "metadata": {},
     "output_type": "execute_result"
    }
   ],
   "source": [
    "[9]#this will return ture ,if the mentioned name is a Keyword.\n",
    "keyword.iskeyword('try')\n",
    "\n"
   ]
  },
  {
   "cell_type": "code",
   "execution_count": 10,
   "id": "ffa1684e",
   "metadata": {},
   "outputs": [
    {
     "ename": "NameError",
     "evalue": "name 'Keyword' is not defined",
     "output_type": "error",
     "traceback": [
      "\u001b[1;31m---------------------------------------------------------------------------\u001b[0m",
      "\u001b[1;31mNameError\u001b[0m                                 Traceback (most recent call last)",
      "Cell \u001b[1;32mIn[10], line 1\u001b[0m\n\u001b[1;32m----> 1\u001b[0m \u001b[43mKeyword\u001b[49m\u001b[38;5;241m.\u001b[39miskeyword(\u001b[38;5;124m'\u001b[39m\u001b[38;5;124mloop\u001b[39m\u001b[38;5;124m'\u001b[39m)\n",
      "\u001b[1;31mNameError\u001b[0m: name 'Keyword' is not defined"
     ]
    }
   ],
   "source": [
    "Keyword.iskeyword('loop')\n"
   ]
  },
  {
   "cell_type": "markdown",
   "id": "388fb0c8",
   "metadata": {},
   "source": [
    "# Popular Python Libraries"
   ]
  },
  {
   "cell_type": "markdown",
   "id": "68482d5a",
   "metadata": {},
   "source": [
    "NumPy:for heigh level mathmatical function\n",
    "\n",
    "Pandas:used for data Anylysis & manipulation\n",
    "\n",
    "Matplotib: Plotting in Python\n",
    "    \n",
    "    \n",
    "    \n",
    "    \n",
    "    "
   ]
  },
  {
   "cell_type": "markdown",
   "id": "bfe8a7e4",
   "metadata": {},
   "source": [
    "Python Comment "
   ]
  },
  {
   "cell_type": "code",
   "execution_count": null,
   "id": "ea831720",
   "metadata": {},
   "outputs": [],
   "source": [
    "[10]# a single line comment\n",
    "    # a multi line comment \n",
    "     ---Hai all it's me Rithun P C from kozhikode--"
   ]
  },
  {
   "cell_type": "code",
   "execution_count": null,
   "id": "a3b60734",
   "metadata": {},
   "outputs": [],
   "source": [
    "# How are you?\n",
    "#\n",
    "\"Yes I am fine ...\""
   ]
  }
 ],
 "metadata": {
  "kernelspec": {
   "display_name": "Python 3 (ipykernel)",
   "language": "python",
   "name": "python3"
  },
  "language_info": {
   "codemirror_mode": {
    "name": "ipython",
    "version": 3
   },
   "file_extension": ".py",
   "mimetype": "text/x-python",
   "name": "python",
   "nbconvert_exporter": "python",
   "pygments_lexer": "ipython3",
   "version": "3.10.9"
  }
 },
 "nbformat": 4,
 "nbformat_minor": 5
}
